{
  "nbformat": 4,
  "nbformat_minor": 0,
  "metadata": {
    "colab": {
      "provenance": [],
      "include_colab_link": true
    },
    "kernelspec": {
      "name": "python3",
      "display_name": "Python 3"
    },
    "language_info": {
      "name": "python"
    }
  },
  "cells": [
    {
      "cell_type": "markdown",
      "metadata": {
        "id": "view-in-github",
        "colab_type": "text"
      },
      "source": [
        "<a href=\"https://colab.research.google.com/github/sainath5466/asdf/blob/main/notebooks/feature_engineering.ipynb\" target=\"_parent\"><img src=\"https://colab.research.google.com/assets/colab-badge.svg\" alt=\"Open In Colab\"/></a>"
      ]
    },
    {
      "cell_type": "code",
      "source": [
        "!pip install -qq pycaret category_encoders yellowbrick"
      ],
      "metadata": {
        "id": "3j75qy-GEMP4",
        "outputId": "f8c04b46-e64b-494a-c6ed-7b6434066c60",
        "colab": {
          "base_uri": "https://localhost:8080/"
        }
      },
      "execution_count": 1,
      "outputs": [
        {
          "output_type": "stream",
          "name": "stdout",
          "text": [
            "\u001b[2K     \u001b[90m━━━━━━━━━━━━━━━━━━━━━━━━━━━━━━━━━━━━━━━━\u001b[0m \u001b[32m60.4/60.4 kB\u001b[0m \u001b[31m1.1 MB/s\u001b[0m eta \u001b[36m0:00:00\u001b[0m\n",
            "\u001b[2K     \u001b[90m━━━━━━━━━━━━━━━━━━━━━━━━━━━━━━━━━━━━━━━━\u001b[0m \u001b[32m169.6/169.6 kB\u001b[0m \u001b[31m5.1 MB/s\u001b[0m eta \u001b[36m0:00:00\u001b[0m\n",
            "\u001b[?25h  Preparing metadata (setup.py) ... \u001b[?25l\u001b[?25hdone\n",
            "\u001b[2K   \u001b[90m━━━━━━━━━━━━━━━━━━━━━━━━━━━━━━━━━━━━━━━━\u001b[0m \u001b[32m486.1/486.1 kB\u001b[0m \u001b[31m12.9 MB/s\u001b[0m eta \u001b[36m0:00:00\u001b[0m\n",
            "\u001b[2K   \u001b[90m━━━━━━━━━━━━━━━━━━━━━━━━━━━━━━━━━━━━━━━━\u001b[0m \u001b[32m106.8/106.8 kB\u001b[0m \u001b[31m7.0 MB/s\u001b[0m eta \u001b[36m0:00:00\u001b[0m\n",
            "\u001b[2K   \u001b[90m━━━━━━━━━━━━━━━━━━━━━━━━━━━━━━━━━━━━━━━━\u001b[0m \u001b[32m21.8/21.8 MB\u001b[0m \u001b[31m52.0 MB/s\u001b[0m eta \u001b[36m0:00:00\u001b[0m\n",
            "\u001b[2K   \u001b[90m━━━━━━━━━━━━━━━━━━━━━━━━━━━━━━━━━━━━━━━━\u001b[0m \u001b[32m85.4/85.4 kB\u001b[0m \u001b[31m5.8 MB/s\u001b[0m eta \u001b[36m0:00:00\u001b[0m\n",
            "\u001b[2K   \u001b[90m━━━━━━━━━━━━━━━━━━━━━━━━━━━━━━━━━━━━━━━━\u001b[0m \u001b[32m302.2/302.2 kB\u001b[0m \u001b[31m18.1 MB/s\u001b[0m eta \u001b[36m0:00:00\u001b[0m\n",
            "\u001b[2K   \u001b[90m━━━━━━━━━━━━━━━━━━━━━━━━━━━━━━━━━━━━━━━━\u001b[0m \u001b[32m79.9/79.9 MB\u001b[0m \u001b[31m11.4 MB/s\u001b[0m eta \u001b[36m0:00:00\u001b[0m\n",
            "\u001b[2K   \u001b[90m━━━━━━━━━━━━━━━━━━━━━━━━━━━━━━━━━━━━━━━━\u001b[0m \u001b[32m11.6/11.6 MB\u001b[0m \u001b[31m68.1 MB/s\u001b[0m eta \u001b[36m0:00:00\u001b[0m\n",
            "\u001b[2K   \u001b[90m━━━━━━━━━━━━━━━━━━━━━━━━━━━━━━━━━━━━━━━━\u001b[0m \u001b[32m12.2/12.2 MB\u001b[0m \u001b[31m65.2 MB/s\u001b[0m eta \u001b[36m0:00:00\u001b[0m\n",
            "\u001b[2K   \u001b[90m━━━━━━━━━━━━━━━━━━━━━━━━━━━━━━━━━━━━━━━━\u001b[0m \u001b[32m80.7/80.7 kB\u001b[0m \u001b[31m5.0 MB/s\u001b[0m eta \u001b[36m0:00:00\u001b[0m\n",
            "\u001b[2K   \u001b[90m━━━━━━━━━━━━━━━━━━━━━━━━━━━━━━━━━━━━━━━━\u001b[0m \u001b[32m2.2/2.2 MB\u001b[0m \u001b[31m50.3 MB/s\u001b[0m eta \u001b[36m0:00:00\u001b[0m\n",
            "\u001b[2K   \u001b[90m━━━━━━━━━━━━━━━━━━━━━━━━━━━━━━━━━━━━━━━━\u001b[0m \u001b[32m12.1/12.1 MB\u001b[0m \u001b[31m57.8 MB/s\u001b[0m eta \u001b[36m0:00:00\u001b[0m\n",
            "\u001b[2K   \u001b[90m━━━━━━━━━━━━━━━━━━━━━━━━━━━━━━━━━━━━━━━━\u001b[0m \u001b[32m36.4/36.4 MB\u001b[0m \u001b[31m17.3 MB/s\u001b[0m eta \u001b[36m0:00:00\u001b[0m\n",
            "\u001b[2K   \u001b[90m━━━━━━━━━━━━━━━━━━━━━━━━━━━━━━━━━━━━━━━━\u001b[0m \u001b[32m44.0/44.0 kB\u001b[0m \u001b[31m2.6 MB/s\u001b[0m eta \u001b[36m0:00:00\u001b[0m\n",
            "\u001b[2K   \u001b[90m━━━━━━━━━━━━━━━━━━━━━━━━━━━━━━━━━━━━━━━━\u001b[0m \u001b[32m194.8/194.8 kB\u001b[0m \u001b[31m14.4 MB/s\u001b[0m eta \u001b[36m0:00:00\u001b[0m\n",
            "\u001b[2K   \u001b[90m━━━━━━━━━━━━━━━━━━━━━━━━━━━━━━━━━━━━━━━━\u001b[0m \u001b[32m7.8/7.8 MB\u001b[0m \u001b[31m80.9 MB/s\u001b[0m eta \u001b[36m0:00:00\u001b[0m\n",
            "\u001b[2K   \u001b[90m━━━━━━━━━━━━━━━━━━━━━━━━━━━━━━━━━━━━━━━━\u001b[0m \u001b[32m1.6/1.6 MB\u001b[0m \u001b[31m53.5 MB/s\u001b[0m eta \u001b[36m0:00:00\u001b[0m\n",
            "\u001b[2K   \u001b[90m━━━━━━━━━━━━━━━━━━━━━━━━━━━━━━━━━━━━━━━━\u001b[0m \u001b[32m130.1/130.1 kB\u001b[0m \u001b[31m8.6 MB/s\u001b[0m eta \u001b[36m0:00:00\u001b[0m\n",
            "\u001b[2K   \u001b[90m━━━━━━━━━━━━━━━━━━━━━━━━━━━━━━━━━━━━━━━━\u001b[0m \u001b[32m1.3/1.3 MB\u001b[0m \u001b[31m45.4 MB/s\u001b[0m eta \u001b[36m0:00:00\u001b[0m\n",
            "\u001b[2K   \u001b[90m━━━━━━━━━━━━━━━━━━━━━━━━━━━━━━━━━━━━━━━━\u001b[0m \u001b[32m101.7/101.7 kB\u001b[0m \u001b[31m6.5 MB/s\u001b[0m eta \u001b[36m0:00:00\u001b[0m\n",
            "\u001b[2K   \u001b[90m━━━━━━━━━━━━━━━━━━━━━━━━━━━━━━━━━━━━━━━━\u001b[0m \u001b[32m228.0/228.0 kB\u001b[0m \u001b[31m12.2 MB/s\u001b[0m eta \u001b[36m0:00:00\u001b[0m\n",
            "\u001b[?25h  Building wheel for pyod (setup.py) ... \u001b[?25l\u001b[?25hdone\n",
            "\u001b[31mERROR: pip's dependency resolver does not currently take into account all the packages that are installed. This behaviour is the source of the following dependency conflicts.\n",
            "google-colab 1.0.0 requires pandas==2.2.2, but you have pandas 2.1.4 which is incompatible.\n",
            "mizani 0.13.1 requires pandas>=2.2.0, but you have pandas 2.1.4 which is incompatible.\n",
            "plotnine 0.14.5 requires matplotlib>=3.8.0, but you have matplotlib 3.7.5 which is incompatible.\n",
            "plotnine 0.14.5 requires pandas>=2.2.0, but you have pandas 2.1.4 which is incompatible.\u001b[0m\u001b[31m\n",
            "\u001b[0m"
          ]
        }
      ]
    },
    {
      "cell_type": "code",
      "execution_count": 2,
      "metadata": {
        "id": "e0Cx1LiSDju8"
      },
      "outputs": [],
      "source": [
        "# some builtin imports\n",
        "import re\n",
        "import warnings\n",
        "from collections import Counter\n",
        "import time\n",
        "from datetime import datetime\n",
        "warnings.filterwarnings('ignore')\n",
        "\n",
        "# Some usual imports here\n",
        "import csv\n",
        "import numpy as np\n",
        "import pandas as pd\n",
        "import seaborn as sns\n",
        "import matplotlib.pyplot as plt\n",
        "import matplotlib as mpl\n",
        "\n",
        "\n",
        "# sklearn models\n",
        "from sklearn import metrics\n",
        "from sklearn.linear_model import LinearRegression\n",
        "from sklearn import metrics, model_selection\n",
        "from sklearn.feature_extraction.text import TfidfTransformer, CountVectorizer, TfidfVectorizer\n",
        "from sklearn.preprocessing import (\n",
        "    StandardScaler\n",
        ")\n",
        "\n",
        "from category_encoders.one_hot import OneHotEncoder\n",
        "\n",
        "# pycaret\n",
        "from pycaret.internal.preprocess.transformers import (\n",
        "    CleanColumnNames,\n",
        "    RemoveMulticollinearity,\n",
        "    RemoveOutliers,\n",
        "    TransformerWrapper,\n",
        "    TransformerWrapperWithInverse,\n",
        "    EmbedTextFeatures,\n",
        ")\n",
        "from pycaret.internal.pipeline import Pipeline\n",
        "from pycaret.internal.memory import Memory\n",
        "\n",
        "np.random.seed(17)"
      ]
    },
    {
      "cell_type": "code",
      "source": [
        "## Customize Matplotlib Parameters\n",
        "%matplotlib inline\n",
        "mpl.rcParams['figure.dpi']= 120\n",
        "mpl.rcParams['figure.edgecolor']= 'black'\n",
        "mpl.rcParams['axes.linewidth']= .5\n",
        "# Customize Seaborn Parameters\n",
        "sns.set()\n",
        "rc = {\n",
        "      'font.family': ['serif'],\n",
        "      'font.serif':'Times New Roman',\n",
        "      'grid.color': 'gainsboro',\n",
        "      'grid.linestyle': '-',\n",
        "}\n",
        "sns.set_style(rc=rc)\n",
        "sns.set_context(\"notebook\", font_scale=0.8)"
      ],
      "metadata": {
        "id": "tMC3WSd6EXqJ"
      },
      "execution_count": 3,
      "outputs": []
    },
    {
      "cell_type": "markdown",
      "source": [
        "# Load dataset"
      ],
      "metadata": {
        "id": "O1TXz3lCEcUh"
      }
    },
    {
      "cell_type": "code",
      "source": [
        "df = pd.read_csv('house_rentals.csv')"
      ],
      "metadata": {
        "id": "5qywAiaxEZXo"
      },
      "execution_count": 6,
      "outputs": []
    },
    {
      "cell_type": "code",
      "source": [
        "df.info()"
      ],
      "metadata": {
        "colab": {
          "base_uri": "https://localhost:8080/"
        },
        "id": "MOs122NBEwE8",
        "outputId": "2fc69404-7303-40ef-eeac-46f34aa978ff"
      },
      "execution_count": 7,
      "outputs": [
        {
          "output_type": "stream",
          "name": "stdout",
          "text": [
            "<class 'pandas.core.frame.DataFrame'>\n",
            "RangeIndex: 17890 entries, 0 to 17889\n",
            "Data columns (total 17 columns):\n",
            " #   Column         Non-Null Count  Dtype  \n",
            "---  ------         --------------  -----  \n",
            " 0   url            17890 non-null  object \n",
            " 1   listing_type   17890 non-null  object \n",
            " 2   name           17890 non-null  object \n",
            " 3   price          17890 non-null  int64  \n",
            " 4   category       17890 non-null  object \n",
            " 5   bedrooms       17890 non-null  float64\n",
            " 6   bathrooms      17890 non-null  float64\n",
            " 7   floor_area     17890 non-null  float64\n",
            " 8   location       17890 non-null  object \n",
            " 9   condition      17890 non-null  object \n",
            " 10  amenities      17890 non-null  object \n",
            " 11  region         17890 non-null  object \n",
            " 12  locality       17890 non-null  object \n",
            " 13  parking_space  17890 non-null  bool   \n",
            " 14  is_furnished   17890 non-null  object \n",
            " 15  lat            17890 non-null  float64\n",
            " 16  lng            17890 non-null  float64\n",
            "dtypes: bool(1), float64(5), int64(1), object(10)\n",
            "memory usage: 2.2+ MB\n"
          ]
        }
      ]
    },
    {
      "cell_type": "markdown",
      "source": [
        "# Feature engineering"
      ],
      "metadata": {
        "id": "XRHgpfCNE6g5"
      }
    },
    {
      "cell_type": "code",
      "source": [
        "drop_cols = ['name', 'url', 'listing_type', 'location', 'region', 'locality']\n",
        "df = df.drop(columns=drop_cols)"
      ],
      "metadata": {
        "id": "iRm-My9kE3wp"
      },
      "execution_count": 8,
      "outputs": []
    },
    {
      "cell_type": "markdown",
      "source": [
        "## Amenities count"
      ],
      "metadata": {
        "id": "a97UbCyiFS57"
      }
    },
    {
      "cell_type": "code",
      "source": [
        "df['amenities_count'] = df['amenities'].apply(lambda x: len(x.split(',')))"
      ],
      "metadata": {
        "id": "Dxpasi-NFL2j"
      },
      "execution_count": 9,
      "outputs": []
    },
    {
      "cell_type": "markdown",
      "source": [
        "## Furnishing"
      ],
      "metadata": {
        "id": "UxvyJdO8JnMe"
      }
    },
    {
      "cell_type": "code",
      "source": [
        "df['furnishing'] = df['is_furnished']\n",
        "df = df.drop(columns=['is_furnished'])"
      ],
      "metadata": {
        "id": "mKcueBqDJms2"
      },
      "execution_count": 10,
      "outputs": []
    },
    {
      "cell_type": "markdown",
      "source": [
        "## Parking space"
      ],
      "metadata": {
        "id": "9_fWtO79Ka1e"
      }
    },
    {
      "cell_type": "code",
      "source": [
        "df.parking_space.value_counts()"
      ],
      "metadata": {
        "colab": {
          "base_uri": "https://localhost:8080/",
          "height": 178
        },
        "id": "YL_zbmUGKkQI",
        "outputId": "e7c34587-0fac-4c82-9f9e-d62ec5703eaa"
      },
      "execution_count": 11,
      "outputs": [
        {
          "output_type": "execute_result",
          "data": {
            "text/plain": [
              "parking_space\n",
              "False    17875\n",
              "True        15\n",
              "Name: count, dtype: int64"
            ],
            "text/html": [
              "<div>\n",
              "<style scoped>\n",
              "    .dataframe tbody tr th:only-of-type {\n",
              "        vertical-align: middle;\n",
              "    }\n",
              "\n",
              "    .dataframe tbody tr th {\n",
              "        vertical-align: top;\n",
              "    }\n",
              "\n",
              "    .dataframe thead th {\n",
              "        text-align: right;\n",
              "    }\n",
              "</style>\n",
              "<table border=\"1\" class=\"dataframe\">\n",
              "  <thead>\n",
              "    <tr style=\"text-align: right;\">\n",
              "      <th></th>\n",
              "      <th>count</th>\n",
              "    </tr>\n",
              "    <tr>\n",
              "      <th>parking_space</th>\n",
              "      <th></th>\n",
              "    </tr>\n",
              "  </thead>\n",
              "  <tbody>\n",
              "    <tr>\n",
              "      <th>False</th>\n",
              "      <td>17875</td>\n",
              "    </tr>\n",
              "    <tr>\n",
              "      <th>True</th>\n",
              "      <td>15</td>\n",
              "    </tr>\n",
              "  </tbody>\n",
              "</table>\n",
              "</div><br><label><b>dtype:</b> int64</label>"
            ]
          },
          "metadata": {},
          "execution_count": 11
        }
      ]
    },
    {
      "cell_type": "code",
      "source": [
        "df['parking_space'] = df['parking_space'].apply(lambda x: 1 if x == True else 0)"
      ],
      "metadata": {
        "id": "pjPr1L65KZ8R"
      },
      "execution_count": 12,
      "outputs": []
    },
    {
      "cell_type": "code",
      "source": [
        "df.parking_space.value_counts()"
      ],
      "metadata": {
        "colab": {
          "base_uri": "https://localhost:8080/",
          "height": 178
        },
        "id": "lT9g54p6LXA0",
        "outputId": "12d77d4a-ea63-4661-8c2c-89766289db9b"
      },
      "execution_count": 13,
      "outputs": [
        {
          "output_type": "execute_result",
          "data": {
            "text/plain": [
              "parking_space\n",
              "0    17875\n",
              "1       15\n",
              "Name: count, dtype: int64"
            ],
            "text/html": [
              "<div>\n",
              "<style scoped>\n",
              "    .dataframe tbody tr th:only-of-type {\n",
              "        vertical-align: middle;\n",
              "    }\n",
              "\n",
              "    .dataframe tbody tr th {\n",
              "        vertical-align: top;\n",
              "    }\n",
              "\n",
              "    .dataframe thead th {\n",
              "        text-align: right;\n",
              "    }\n",
              "</style>\n",
              "<table border=\"1\" class=\"dataframe\">\n",
              "  <thead>\n",
              "    <tr style=\"text-align: right;\">\n",
              "      <th></th>\n",
              "      <th>count</th>\n",
              "    </tr>\n",
              "    <tr>\n",
              "      <th>parking_space</th>\n",
              "      <th></th>\n",
              "    </tr>\n",
              "  </thead>\n",
              "  <tbody>\n",
              "    <tr>\n",
              "      <th>0</th>\n",
              "      <td>17875</td>\n",
              "    </tr>\n",
              "    <tr>\n",
              "      <th>1</th>\n",
              "      <td>15</td>\n",
              "    </tr>\n",
              "  </tbody>\n",
              "</table>\n",
              "</div><br><label><b>dtype:</b> int64</label>"
            ]
          },
          "metadata": {},
          "execution_count": 13
        }
      ]
    },
    {
      "cell_type": "markdown",
      "source": [
        "## Price transformation"
      ],
      "metadata": {
        "id": "kU5FmKaSFjqT"
      }
    },
    {
      "cell_type": "code",
      "source": [
        "# Move the 'price' column to the end\n",
        "price_column = df['price']\n",
        "df = df.drop(columns=['price'])\n",
        "df['price'] = price_column\n",
        "\n",
        "df['log1p_price'] = np.log1p(df['price'])"
      ],
      "metadata": {
        "id": "OEx5Y7_EFmWa"
      },
      "execution_count": 14,
      "outputs": []
    },
    {
      "cell_type": "markdown",
      "source": [
        "# Preprocessing Pipeline"
      ],
      "metadata": {
        "id": "f-dDySvaFuww"
      }
    },
    {
      "cell_type": "code",
      "source": [
        "df.info()"
      ],
      "metadata": {
        "colab": {
          "base_uri": "https://localhost:8080/"
        },
        "id": "qzJ2jI67FVC_",
        "outputId": "8908d040-a141-4f97-9294-dd902cf88fd7"
      },
      "execution_count": 15,
      "outputs": [
        {
          "output_type": "stream",
          "name": "stdout",
          "text": [
            "<class 'pandas.core.frame.DataFrame'>\n",
            "RangeIndex: 17890 entries, 0 to 17889\n",
            "Data columns (total 13 columns):\n",
            " #   Column           Non-Null Count  Dtype  \n",
            "---  ------           --------------  -----  \n",
            " 0   category         17890 non-null  object \n",
            " 1   bedrooms         17890 non-null  float64\n",
            " 2   bathrooms        17890 non-null  float64\n",
            " 3   floor_area       17890 non-null  float64\n",
            " 4   condition        17890 non-null  object \n",
            " 5   amenities        17890 non-null  object \n",
            " 6   parking_space    17890 non-null  int64  \n",
            " 7   lat              17890 non-null  float64\n",
            " 8   lng              17890 non-null  float64\n",
            " 9   amenities_count  17890 non-null  int64  \n",
            " 10  furnishing       17890 non-null  object \n",
            " 11  price            17890 non-null  int64  \n",
            " 12  log1p_price      17890 non-null  float64\n",
            "dtypes: float64(6), int64(3), object(4)\n",
            "memory usage: 1.8+ MB\n"
          ]
        }
      ]
    },
    {
      "cell_type": "code",
      "source": [
        "target_columns = [\"log1p_price\", \"price\"]\n",
        "one_hot_cols = [\"category\", \"condition\", \"furnishing\"]\n",
        "text_cols = [\"amenities\"]\n",
        "text_features_method = \"bow\"\n",
        "bool_cols = ['parking_space']\n",
        "numeric_cols = list(set(df.columns) - set(target_columns) - set(one_hot_cols) - set(text_cols) - set(bool_cols))\n",
        "\n",
        "# one-hot encoding of categorical columns\n",
        "category_encoding = TransformerWrapper(\n",
        "    transformer=OneHotEncoder(\n",
        "        cols=one_hot_cols,\n",
        "        use_cat_names=True,\n",
        "        handle_missing=\"return_nan\",\n",
        "        handle_unknown=\"value\",\n",
        "    ),\n",
        "    include=one_hot_cols,\n",
        ")\n",
        "\n",
        "# text emebeding for amenities using BOW\n",
        "embed_kwards = dict(tokenizer=lambda x: x.split(','), binary=True, max_features=20)\n",
        "text_embedding = TransformerWrapper(\n",
        "    transformer=EmbedTextFeatures(method=text_features_method, kwargs=embed_kwards),\n",
        "    include=text_cols,\n",
        ")\n",
        "# transformer to remove highly correlated features\n",
        "remove_multicollinearity = TransformerWrapper(\n",
        "    exclude=[], transformer=RemoveMulticollinearity(threshold=0.9)\n",
        ")\n",
        "# remove outliers\n",
        "# remove_outliers = TransformerWrapper(\n",
        "#     transformer=RemoveOutliers(random_state=123, threshold=\"auto\")\n",
        "# )\n",
        "\n",
        "# normalize numeric features\n",
        "normalize = TransformerWrapper(transformer=StandardScaler(), include=numeric_cols)\n",
        "clean_column_names = TransformerWrapper(transformer=CleanColumnNames())\n",
        "\n",
        "preprocessor = Pipeline(\n",
        "    steps=[\n",
        "        (\"category_encoding\", category_encoding),\n",
        "        (\"text_embedding\", text_embedding),\n",
        "        (\"remove_multicollinearity\", remove_multicollinearity),\n",
        "        # (\"remove_outliers\", remove_outliers),\n",
        "        (\"normalize\", normalize),\n",
        "        (\"clean_column_names\", clean_column_names),\n",
        "    ],\n",
        ")\n",
        "\n",
        "# # prompt: transform the df using the preprocessor and convert the output to a dataframe with the transformed columns\n",
        "trans_df = pd.DataFrame(preprocessor.fit_transform(df))\n",
        "trans_df.head()"
      ],
      "metadata": {
        "colab": {
          "base_uri": "https://localhost:8080/",
          "height": 273
        },
        "id": "zBrX3mChGFsK",
        "outputId": "566ee065-cff9-445c-bac7-2cf6a6c37a73"
      },
      "execution_count": 16,
      "outputs": [
        {
          "output_type": "execute_result",
          "data": {
            "text/plain": [
              "   category_Flats  category_Detached  category_Townhouse  category_Duplex  \\\n",
              "0             1.0                0.0                 0.0              0.0   \n",
              "1             1.0                0.0                 0.0              0.0   \n",
              "2             0.0                1.0                 0.0              0.0   \n",
              "3             0.0                1.0                 0.0              0.0   \n",
              "4             0.0                1.0                 0.0              0.0   \n",
              "\n",
              "   category_Mansion  category_Semi-Detached  bedrooms  bathrooms  floor_area  \\\n",
              "0               0.0                     0.0 -0.363125  -0.409811   -0.393436   \n",
              "1               0.0                     0.0 -0.363125  -0.409811   -0.436503   \n",
              "2               0.0                     0.0  1.220567   1.767869   -0.436503   \n",
              "3               0.0                     0.0  0.428721   0.316082   -0.515938   \n",
              "4               0.0                     0.0  0.428721   0.316082   -0.379081   \n",
              "\n",
              "   condition_Used  ...  amenities_wi-fi  parking_space       lat       lng  \\\n",
              "0             1.0  ...                1              0 -0.198154  0.264372   \n",
              "1             1.0  ...                1              0 -0.245904  0.158057   \n",
              "2             0.0  ...                0              0 -0.100510  0.339132   \n",
              "3             1.0  ...                0              0 -0.314007  0.440336   \n",
              "4             1.0  ...                1              0 -0.194226  0.372127   \n",
              "\n",
              "   amenities_count  furnishing_Semi-Furnished  furnishing_Unfurnished  \\\n",
              "0         1.026783                        1.0                     0.0   \n",
              "1         0.306848                        0.0                     1.0   \n",
              "2         1.506740                        1.0                     0.0   \n",
              "3        -0.893045                        1.0                     0.0   \n",
              "4         1.026783                        1.0                     0.0   \n",
              "\n",
              "   furnishing_Furnished  price  log1p_price  \n",
              "0                   0.0   9196     9.126633  \n",
              "1                   0.0   7500     8.922792  \n",
              "2                   0.0  11200     9.323758  \n",
              "3                   0.0   2500     7.824446  \n",
              "4                   0.0   9146     9.121181  \n",
              "\n",
              "[5 rows x 39 columns]"
            ],
            "text/html": [
              "\n",
              "  <div id=\"df-2c0185bd-c97c-457b-b160-d86293da11f3\" class=\"colab-df-container\">\n",
              "    <div>\n",
              "<style scoped>\n",
              "    .dataframe tbody tr th:only-of-type {\n",
              "        vertical-align: middle;\n",
              "    }\n",
              "\n",
              "    .dataframe tbody tr th {\n",
              "        vertical-align: top;\n",
              "    }\n",
              "\n",
              "    .dataframe thead th {\n",
              "        text-align: right;\n",
              "    }\n",
              "</style>\n",
              "<table border=\"1\" class=\"dataframe\">\n",
              "  <thead>\n",
              "    <tr style=\"text-align: right;\">\n",
              "      <th></th>\n",
              "      <th>category_Flats</th>\n",
              "      <th>category_Detached</th>\n",
              "      <th>category_Townhouse</th>\n",
              "      <th>category_Duplex</th>\n",
              "      <th>category_Mansion</th>\n",
              "      <th>category_Semi-Detached</th>\n",
              "      <th>bedrooms</th>\n",
              "      <th>bathrooms</th>\n",
              "      <th>floor_area</th>\n",
              "      <th>condition_Used</th>\n",
              "      <th>...</th>\n",
              "      <th>amenities_wi-fi</th>\n",
              "      <th>parking_space</th>\n",
              "      <th>lat</th>\n",
              "      <th>lng</th>\n",
              "      <th>amenities_count</th>\n",
              "      <th>furnishing_Semi-Furnished</th>\n",
              "      <th>furnishing_Unfurnished</th>\n",
              "      <th>furnishing_Furnished</th>\n",
              "      <th>price</th>\n",
              "      <th>log1p_price</th>\n",
              "    </tr>\n",
              "  </thead>\n",
              "  <tbody>\n",
              "    <tr>\n",
              "      <th>0</th>\n",
              "      <td>1.0</td>\n",
              "      <td>0.0</td>\n",
              "      <td>0.0</td>\n",
              "      <td>0.0</td>\n",
              "      <td>0.0</td>\n",
              "      <td>0.0</td>\n",
              "      <td>-0.363125</td>\n",
              "      <td>-0.409811</td>\n",
              "      <td>-0.393436</td>\n",
              "      <td>1.0</td>\n",
              "      <td>...</td>\n",
              "      <td>1</td>\n",
              "      <td>0</td>\n",
              "      <td>-0.198154</td>\n",
              "      <td>0.264372</td>\n",
              "      <td>1.026783</td>\n",
              "      <td>1.0</td>\n",
              "      <td>0.0</td>\n",
              "      <td>0.0</td>\n",
              "      <td>9196</td>\n",
              "      <td>9.126633</td>\n",
              "    </tr>\n",
              "    <tr>\n",
              "      <th>1</th>\n",
              "      <td>1.0</td>\n",
              "      <td>0.0</td>\n",
              "      <td>0.0</td>\n",
              "      <td>0.0</td>\n",
              "      <td>0.0</td>\n",
              "      <td>0.0</td>\n",
              "      <td>-0.363125</td>\n",
              "      <td>-0.409811</td>\n",
              "      <td>-0.436503</td>\n",
              "      <td>1.0</td>\n",
              "      <td>...</td>\n",
              "      <td>1</td>\n",
              "      <td>0</td>\n",
              "      <td>-0.245904</td>\n",
              "      <td>0.158057</td>\n",
              "      <td>0.306848</td>\n",
              "      <td>0.0</td>\n",
              "      <td>1.0</td>\n",
              "      <td>0.0</td>\n",
              "      <td>7500</td>\n",
              "      <td>8.922792</td>\n",
              "    </tr>\n",
              "    <tr>\n",
              "      <th>2</th>\n",
              "      <td>0.0</td>\n",
              "      <td>1.0</td>\n",
              "      <td>0.0</td>\n",
              "      <td>0.0</td>\n",
              "      <td>0.0</td>\n",
              "      <td>0.0</td>\n",
              "      <td>1.220567</td>\n",
              "      <td>1.767869</td>\n",
              "      <td>-0.436503</td>\n",
              "      <td>0.0</td>\n",
              "      <td>...</td>\n",
              "      <td>0</td>\n",
              "      <td>0</td>\n",
              "      <td>-0.100510</td>\n",
              "      <td>0.339132</td>\n",
              "      <td>1.506740</td>\n",
              "      <td>1.0</td>\n",
              "      <td>0.0</td>\n",
              "      <td>0.0</td>\n",
              "      <td>11200</td>\n",
              "      <td>9.323758</td>\n",
              "    </tr>\n",
              "    <tr>\n",
              "      <th>3</th>\n",
              "      <td>0.0</td>\n",
              "      <td>1.0</td>\n",
              "      <td>0.0</td>\n",
              "      <td>0.0</td>\n",
              "      <td>0.0</td>\n",
              "      <td>0.0</td>\n",
              "      <td>0.428721</td>\n",
              "      <td>0.316082</td>\n",
              "      <td>-0.515938</td>\n",
              "      <td>1.0</td>\n",
              "      <td>...</td>\n",
              "      <td>0</td>\n",
              "      <td>0</td>\n",
              "      <td>-0.314007</td>\n",
              "      <td>0.440336</td>\n",
              "      <td>-0.893045</td>\n",
              "      <td>1.0</td>\n",
              "      <td>0.0</td>\n",
              "      <td>0.0</td>\n",
              "      <td>2500</td>\n",
              "      <td>7.824446</td>\n",
              "    </tr>\n",
              "    <tr>\n",
              "      <th>4</th>\n",
              "      <td>0.0</td>\n",
              "      <td>1.0</td>\n",
              "      <td>0.0</td>\n",
              "      <td>0.0</td>\n",
              "      <td>0.0</td>\n",
              "      <td>0.0</td>\n",
              "      <td>0.428721</td>\n",
              "      <td>0.316082</td>\n",
              "      <td>-0.379081</td>\n",
              "      <td>1.0</td>\n",
              "      <td>...</td>\n",
              "      <td>1</td>\n",
              "      <td>0</td>\n",
              "      <td>-0.194226</td>\n",
              "      <td>0.372127</td>\n",
              "      <td>1.026783</td>\n",
              "      <td>1.0</td>\n",
              "      <td>0.0</td>\n",
              "      <td>0.0</td>\n",
              "      <td>9146</td>\n",
              "      <td>9.121181</td>\n",
              "    </tr>\n",
              "  </tbody>\n",
              "</table>\n",
              "<p>5 rows × 39 columns</p>\n",
              "</div>\n",
              "    <div class=\"colab-df-buttons\">\n",
              "\n",
              "  <div class=\"colab-df-container\">\n",
              "    <button class=\"colab-df-convert\" onclick=\"convertToInteractive('df-2c0185bd-c97c-457b-b160-d86293da11f3')\"\n",
              "            title=\"Convert this dataframe to an interactive table.\"\n",
              "            style=\"display:none;\">\n",
              "\n",
              "  <svg xmlns=\"http://www.w3.org/2000/svg\" height=\"24px\" viewBox=\"0 -960 960 960\">\n",
              "    <path d=\"M120-120v-720h720v720H120Zm60-500h600v-160H180v160Zm220 220h160v-160H400v160Zm0 220h160v-160H400v160ZM180-400h160v-160H180v160Zm440 0h160v-160H620v160ZM180-180h160v-160H180v160Zm440 0h160v-160H620v160Z\"/>\n",
              "  </svg>\n",
              "    </button>\n",
              "\n",
              "  <style>\n",
              "    .colab-df-container {\n",
              "      display:flex;\n",
              "      gap: 12px;\n",
              "    }\n",
              "\n",
              "    .colab-df-convert {\n",
              "      background-color: #E8F0FE;\n",
              "      border: none;\n",
              "      border-radius: 50%;\n",
              "      cursor: pointer;\n",
              "      display: none;\n",
              "      fill: #1967D2;\n",
              "      height: 32px;\n",
              "      padding: 0 0 0 0;\n",
              "      width: 32px;\n",
              "    }\n",
              "\n",
              "    .colab-df-convert:hover {\n",
              "      background-color: #E2EBFA;\n",
              "      box-shadow: 0px 1px 2px rgba(60, 64, 67, 0.3), 0px 1px 3px 1px rgba(60, 64, 67, 0.15);\n",
              "      fill: #174EA6;\n",
              "    }\n",
              "\n",
              "    .colab-df-buttons div {\n",
              "      margin-bottom: 4px;\n",
              "    }\n",
              "\n",
              "    [theme=dark] .colab-df-convert {\n",
              "      background-color: #3B4455;\n",
              "      fill: #D2E3FC;\n",
              "    }\n",
              "\n",
              "    [theme=dark] .colab-df-convert:hover {\n",
              "      background-color: #434B5C;\n",
              "      box-shadow: 0px 1px 3px 1px rgba(0, 0, 0, 0.15);\n",
              "      filter: drop-shadow(0px 1px 2px rgba(0, 0, 0, 0.3));\n",
              "      fill: #FFFFFF;\n",
              "    }\n",
              "  </style>\n",
              "\n",
              "    <script>\n",
              "      const buttonEl =\n",
              "        document.querySelector('#df-2c0185bd-c97c-457b-b160-d86293da11f3 button.colab-df-convert');\n",
              "      buttonEl.style.display =\n",
              "        google.colab.kernel.accessAllowed ? 'block' : 'none';\n",
              "\n",
              "      async function convertToInteractive(key) {\n",
              "        const element = document.querySelector('#df-2c0185bd-c97c-457b-b160-d86293da11f3');\n",
              "        const dataTable =\n",
              "          await google.colab.kernel.invokeFunction('convertToInteractive',\n",
              "                                                    [key], {});\n",
              "        if (!dataTable) return;\n",
              "\n",
              "        const docLinkHtml = 'Like what you see? Visit the ' +\n",
              "          '<a target=\"_blank\" href=https://colab.research.google.com/notebooks/data_table.ipynb>data table notebook</a>'\n",
              "          + ' to learn more about interactive tables.';\n",
              "        element.innerHTML = '';\n",
              "        dataTable['output_type'] = 'display_data';\n",
              "        await google.colab.output.renderOutput(dataTable, element);\n",
              "        const docLink = document.createElement('div');\n",
              "        docLink.innerHTML = docLinkHtml;\n",
              "        element.appendChild(docLink);\n",
              "      }\n",
              "    </script>\n",
              "  </div>\n",
              "\n",
              "\n",
              "<div id=\"df-a8ba3917-daba-4813-a042-06939aa7eee5\">\n",
              "  <button class=\"colab-df-quickchart\" onclick=\"quickchart('df-a8ba3917-daba-4813-a042-06939aa7eee5')\"\n",
              "            title=\"Suggest charts\"\n",
              "            style=\"display:none;\">\n",
              "\n",
              "<svg xmlns=\"http://www.w3.org/2000/svg\" height=\"24px\"viewBox=\"0 0 24 24\"\n",
              "     width=\"24px\">\n",
              "    <g>\n",
              "        <path d=\"M19 3H5c-1.1 0-2 .9-2 2v14c0 1.1.9 2 2 2h14c1.1 0 2-.9 2-2V5c0-1.1-.9-2-2-2zM9 17H7v-7h2v7zm4 0h-2V7h2v10zm4 0h-2v-4h2v4z\"/>\n",
              "    </g>\n",
              "</svg>\n",
              "  </button>\n",
              "\n",
              "<style>\n",
              "  .colab-df-quickchart {\n",
              "      --bg-color: #E8F0FE;\n",
              "      --fill-color: #1967D2;\n",
              "      --hover-bg-color: #E2EBFA;\n",
              "      --hover-fill-color: #174EA6;\n",
              "      --disabled-fill-color: #AAA;\n",
              "      --disabled-bg-color: #DDD;\n",
              "  }\n",
              "\n",
              "  [theme=dark] .colab-df-quickchart {\n",
              "      --bg-color: #3B4455;\n",
              "      --fill-color: #D2E3FC;\n",
              "      --hover-bg-color: #434B5C;\n",
              "      --hover-fill-color: #FFFFFF;\n",
              "      --disabled-bg-color: #3B4455;\n",
              "      --disabled-fill-color: #666;\n",
              "  }\n",
              "\n",
              "  .colab-df-quickchart {\n",
              "    background-color: var(--bg-color);\n",
              "    border: none;\n",
              "    border-radius: 50%;\n",
              "    cursor: pointer;\n",
              "    display: none;\n",
              "    fill: var(--fill-color);\n",
              "    height: 32px;\n",
              "    padding: 0;\n",
              "    width: 32px;\n",
              "  }\n",
              "\n",
              "  .colab-df-quickchart:hover {\n",
              "    background-color: var(--hover-bg-color);\n",
              "    box-shadow: 0 1px 2px rgba(60, 64, 67, 0.3), 0 1px 3px 1px rgba(60, 64, 67, 0.15);\n",
              "    fill: var(--button-hover-fill-color);\n",
              "  }\n",
              "\n",
              "  .colab-df-quickchart-complete:disabled,\n",
              "  .colab-df-quickchart-complete:disabled:hover {\n",
              "    background-color: var(--disabled-bg-color);\n",
              "    fill: var(--disabled-fill-color);\n",
              "    box-shadow: none;\n",
              "  }\n",
              "\n",
              "  .colab-df-spinner {\n",
              "    border: 2px solid var(--fill-color);\n",
              "    border-color: transparent;\n",
              "    border-bottom-color: var(--fill-color);\n",
              "    animation:\n",
              "      spin 1s steps(1) infinite;\n",
              "  }\n",
              "\n",
              "  @keyframes spin {\n",
              "    0% {\n",
              "      border-color: transparent;\n",
              "      border-bottom-color: var(--fill-color);\n",
              "      border-left-color: var(--fill-color);\n",
              "    }\n",
              "    20% {\n",
              "      border-color: transparent;\n",
              "      border-left-color: var(--fill-color);\n",
              "      border-top-color: var(--fill-color);\n",
              "    }\n",
              "    30% {\n",
              "      border-color: transparent;\n",
              "      border-left-color: var(--fill-color);\n",
              "      border-top-color: var(--fill-color);\n",
              "      border-right-color: var(--fill-color);\n",
              "    }\n",
              "    40% {\n",
              "      border-color: transparent;\n",
              "      border-right-color: var(--fill-color);\n",
              "      border-top-color: var(--fill-color);\n",
              "    }\n",
              "    60% {\n",
              "      border-color: transparent;\n",
              "      border-right-color: var(--fill-color);\n",
              "    }\n",
              "    80% {\n",
              "      border-color: transparent;\n",
              "      border-right-color: var(--fill-color);\n",
              "      border-bottom-color: var(--fill-color);\n",
              "    }\n",
              "    90% {\n",
              "      border-color: transparent;\n",
              "      border-bottom-color: var(--fill-color);\n",
              "    }\n",
              "  }\n",
              "</style>\n",
              "\n",
              "  <script>\n",
              "    async function quickchart(key) {\n",
              "      const quickchartButtonEl =\n",
              "        document.querySelector('#' + key + ' button');\n",
              "      quickchartButtonEl.disabled = true;  // To prevent multiple clicks.\n",
              "      quickchartButtonEl.classList.add('colab-df-spinner');\n",
              "      try {\n",
              "        const charts = await google.colab.kernel.invokeFunction(\n",
              "            'suggestCharts', [key], {});\n",
              "      } catch (error) {\n",
              "        console.error('Error during call to suggestCharts:', error);\n",
              "      }\n",
              "      quickchartButtonEl.classList.remove('colab-df-spinner');\n",
              "      quickchartButtonEl.classList.add('colab-df-quickchart-complete');\n",
              "    }\n",
              "    (() => {\n",
              "      let quickchartButtonEl =\n",
              "        document.querySelector('#df-a8ba3917-daba-4813-a042-06939aa7eee5 button');\n",
              "      quickchartButtonEl.style.display =\n",
              "        google.colab.kernel.accessAllowed ? 'block' : 'none';\n",
              "    })();\n",
              "  </script>\n",
              "</div>\n",
              "\n",
              "    </div>\n",
              "  </div>\n"
            ],
            "application/vnd.google.colaboratory.intrinsic+json": {
              "type": "dataframe",
              "variable_name": "trans_df"
            }
          },
          "metadata": {},
          "execution_count": 16
        }
      ]
    },
    {
      "cell_type": "code",
      "source": [
        "trans_df.info()"
      ],
      "metadata": {
        "colab": {
          "base_uri": "https://localhost:8080/"
        },
        "id": "1D7Xzc3FHi12",
        "outputId": "3fee31b4-5bc8-40f3-a18b-7765bc8bab9e"
      },
      "execution_count": 17,
      "outputs": [
        {
          "output_type": "stream",
          "name": "stdout",
          "text": [
            "<class 'pandas.core.frame.DataFrame'>\n",
            "RangeIndex: 17890 entries, 0 to 17889\n",
            "Data columns (total 39 columns):\n",
            " #   Column                         Non-Null Count  Dtype  \n",
            "---  ------                         --------------  -----  \n",
            " 0   category_Flats                 17890 non-null  float64\n",
            " 1   category_Detached              17890 non-null  float64\n",
            " 2   category_Townhouse             17890 non-null  float64\n",
            " 3   category_Duplex                17890 non-null  float64\n",
            " 4   category_Mansion               17890 non-null  float64\n",
            " 5   category_Semi-Detached         17890 non-null  float64\n",
            " 6   bedrooms                       17890 non-null  float64\n",
            " 7   bathrooms                      17890 non-null  float64\n",
            " 8   floor_area                     17890 non-null  float64\n",
            " 9   condition_Used                 17890 non-null  float64\n",
            " 10  condition_New                  17890 non-null  float64\n",
            " 11  condition_Renovated            17890 non-null  float64\n",
            " 12  amenities_24-hour electricity  17890 non-null  int64  \n",
            " 13  amenities_air conditioning     17890 non-null  int64  \n",
            " 14  amenities_apartment            17890 non-null  int64  \n",
            " 15  amenities_balcony              17890 non-null  int64  \n",
            " 16  amenities_chandelier           17890 non-null  int64  \n",
            " 17  amenities_dining area          17890 non-null  int64  \n",
            " 18  amenities_dishwasher           17890 non-null  int64  \n",
            " 19  amenities_hot water            17890 non-null  int64  \n",
            " 20  amenities_kitchen cabinets     17890 non-null  int64  \n",
            " 21  amenities_kitchen shelf        17890 non-null  int64  \n",
            " 22  amenities_microwave            17890 non-null  int64  \n",
            " 23  amenities_pop ceiling          17890 non-null  int64  \n",
            " 24  amenities_pre-paid meter       17890 non-null  int64  \n",
            " 25  amenities_refrigerator         17890 non-null  int64  \n",
            " 26  amenities_tiled floor          17890 non-null  int64  \n",
            " 27  amenities_tv                   17890 non-null  int64  \n",
            " 28  amenities_wardrobe             17890 non-null  int64  \n",
            " 29  amenities_wi-fi                17890 non-null  int64  \n",
            " 30  parking_space                  17890 non-null  int64  \n",
            " 31  lat                            17890 non-null  float64\n",
            " 32  lng                            17890 non-null  float64\n",
            " 33  amenities_count                17890 non-null  float64\n",
            " 34  furnishing_Semi-Furnished      17890 non-null  float64\n",
            " 35  furnishing_Unfurnished         17890 non-null  float64\n",
            " 36  furnishing_Furnished           17890 non-null  float64\n",
            " 37  price                          17890 non-null  int64  \n",
            " 38  log1p_price                    17890 non-null  float64\n",
            "dtypes: float64(19), int64(20)\n",
            "memory usage: 5.3 MB\n"
          ]
        }
      ]
    },
    {
      "cell_type": "code",
      "source": [
        "df.to_csv(\"house_rental_final.csv\", index=False)"
      ],
      "metadata": {
        "id": "VfOGdm9rJbXP"
      },
      "execution_count": 18,
      "outputs": []
    },
    {
      "cell_type": "code",
      "source": [
        "!cp house_rental_final.csv \"/content/drive/MyDrive/Datasets/\""
      ],
      "metadata": {
        "id": "FY1xNeorLhNq",
        "outputId": "743c8d81-bc27-4e3b-fb4d-5c490805af33",
        "colab": {
          "base_uri": "https://localhost:8080/"
        }
      },
      "execution_count": 19,
      "outputs": [
        {
          "output_type": "stream",
          "name": "stdout",
          "text": [
            "cp: cannot create regular file '/content/drive/MyDrive/Datasets/': No such file or directory\n"
          ]
        }
      ]
    }
  ]
}