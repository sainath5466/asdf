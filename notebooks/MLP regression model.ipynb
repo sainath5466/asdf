{
  "nbformat": 4,
  "nbformat_minor": 0,
  "metadata": {
    "colab": {
      "provenance": [],
      "include_colab_link": true
    },
    "kernelspec": {
      "name": "python3",
      "display_name": "Python 3"
    },
    "language_info": {
      "name": "python"
    }
  },
  "cells": [
    {
      "cell_type": "markdown",
      "metadata": {
        "id": "view-in-github",
        "colab_type": "text"
      },
      "source": [
        "<a href=\"https://colab.research.google.com/github/sainath5466/asdf/blob/main/notebooks/MLP%20regression%20model.ipynb\" target=\"_parent\"><img src=\"https://colab.research.google.com/assets/colab-badge.svg\" alt=\"Open In Colab\"/></a>"
      ]
    },
    {
      "cell_type": "code",
      "execution_count": null,
      "metadata": {
        "id": "Q6q194jpSPXT"
      },
      "outputs": [],
      "source": [
        "!pip install -qq yellowbrick"
      ]
    },
    {
      "cell_type": "code",
      "source": [
        "# some builtin imports\n",
        "import re\n",
        "import warnings\n",
        "from collections import Counter\n",
        "import time\n",
        "from datetime import datetime\n",
        "warnings.filterwarnings('ignore')\n",
        "\n",
        "# Some usual imports here\n",
        "import csv\n",
        "import numpy as np\n",
        "import pandas as pd\n",
        "import seaborn as sns\n",
        "import matplotlib.pyplot as plt\n",
        "import matplotlib as mpl\n",
        "\n",
        "\n",
        "# sklearn models\n",
        "from sklearn import metrics\n",
        "from sklearn.neural_network import MLPRegressor\n",
        "from sklearn import metrics, model_selection\n",
        "\n",
        "# visualizations\n",
        "import shap\n",
        "from yellowbrick.regressor import residuals_plot, prediction_error"
      ],
      "metadata": {
        "id": "2yWBGgT2SbE_"
      },
      "execution_count": null,
      "outputs": []
    },
    {
      "cell_type": "code",
      "source": [
        "## Customize Matplotlib Parameters\n",
        "%matplotlib inline\n",
        "mpl.rcParams['figure.dpi']= 120\n",
        "mpl.rcParams['figure.edgecolor']= 'black'\n",
        "mpl.rcParams['axes.linewidth']= .5\n",
        "# Customize Seaborn Parameters\n",
        "sns.set()\n",
        "rc = {\n",
        "      'font.family': ['serif'],\n",
        "      'font.serif':'Times New Roman',\n",
        "      'grid.color': 'gainsboro',\n",
        "      'grid.linestyle': '-',\n",
        "}\n",
        "sns.set_style(rc=rc)\n",
        "sns.set_context(\"notebook\", font_scale=0.8)"
      ],
      "metadata": {
        "id": "-dD4lh6SS8hZ"
      },
      "execution_count": null,
      "outputs": []
    },
    {
      "cell_type": "markdown",
      "source": [
        "# Load dataset"
      ],
      "metadata": {
        "id": "3iEbuW8ATEyB"
      }
    },
    {
      "cell_type": "code",
      "source": [
        "df = pd.read_csv('/content/drive/MyDrive/Datasets/house_rental_final.csv')"
      ],
      "metadata": {
        "id": "KZAw3fTCTDJC"
      },
      "execution_count": null,
      "outputs": []
    },
    {
      "cell_type": "code",
      "source": [
        "df.info()"
      ],
      "metadata": {
        "id": "L5oX7LubTNii"
      },
      "execution_count": null,
      "outputs": []
    },
    {
      "cell_type": "markdown",
      "source": [
        "# Multilayer Perceptron Regressor"
      ],
      "metadata": {
        "id": "4J-OT8xNTvRb"
      }
    },
    {
      "cell_type": "code",
      "source": [
        "def compute_metrics(model, x, y, cv=5):\n",
        "    preds = model.predict(x)\n",
        "    score = model.score(x, y)\n",
        "\n",
        "    ms = {\n",
        "        \"R2\": round(score, 3),\n",
        "        \"mse\": round(metrics.mean_squared_error(y, preds), 3),\n",
        "        \"rmse\": round(np.sqrt(metrics.mean_squared_error(y, preds)), 3),\n",
        "        \"mae\": round(metrics.mean_absolute_error(y, preds), 3),\n",
        "        \"adjusted_r2\": round(1 - (1 - score) * (len(y) - 1) / (len(y) - x.shape[1] - 1), 3),\n",
        "    }\n",
        "    if cv is not None:\n",
        "        scores_cvs = model_selection.cross_val_score(model, x, y, scoring='r2', cv=cv)\n",
        "        ms['cv_score'] = round(scores_cvs.mean()*100, 2)\n",
        "\n",
        "    return pd.DataFrame([ms])"
      ],
      "metadata": {
        "id": "SLGdb9UbUjgk"
      },
      "execution_count": null,
      "outputs": []
    },
    {
      "cell_type": "code",
      "source": [
        "# train-test split for model evaluation\n",
        "X = df.drop(['price', 'log1p_price'], axis=1).values\n",
        "y = df['log1p_price'].values\n",
        "\n",
        "X_train, X_test, y_train, y_test = model_selection.train_test_split(\n",
        "    X, y, train_size=0.8, shuffle=True, random_state=42\n",
        ")"
      ],
      "metadata": {
        "id": "UQo23nH6TPco"
      },
      "execution_count": null,
      "outputs": []
    },
    {
      "cell_type": "code",
      "source": [
        "X_train.shape, X_test.shape"
      ],
      "metadata": {
        "id": "Xk1jutoMUFo3"
      },
      "execution_count": null,
      "outputs": []
    },
    {
      "cell_type": "code",
      "source": [
        "model = MLPRegressor(random_state=17, max_iter=500)\n",
        "model = model.fit(X_train, y_train)"
      ],
      "metadata": {
        "id": "7JlbqUHSUH9Y"
      },
      "execution_count": null,
      "outputs": []
    },
    {
      "cell_type": "markdown",
      "source": [
        "### Training metrics\n"
      ],
      "metadata": {
        "id": "ESoCgUrTWqFB"
      }
    },
    {
      "cell_type": "code",
      "source": [
        "train_metrics = compute_metrics(model, X_train, y_train)\n",
        "train_metrics"
      ],
      "metadata": {
        "id": "GYns5IqhWha7"
      },
      "execution_count": null,
      "outputs": []
    },
    {
      "cell_type": "markdown",
      "source": [
        "### Validation metrics\n"
      ],
      "metadata": {
        "id": "OzDyftLwWt5p"
      }
    },
    {
      "cell_type": "code",
      "source": [
        "val_metrics = compute_metrics(model, X_test, y_test)\n",
        "val_metrics"
      ],
      "metadata": {
        "id": "Me5FnJZEUXzS"
      },
      "execution_count": null,
      "outputs": []
    },
    {
      "cell_type": "markdown",
      "source": [
        "### Residual plots"
      ],
      "metadata": {
        "id": "GfkgFH5wb1bo"
      }
    },
    {
      "cell_type": "code",
      "source": [
        "visualizer = residuals_plot(\n",
        "    model, X_train, y_train, X_test, y_test,\n",
        ")"
      ],
      "metadata": {
        "id": "3q6DA_eLYpSv"
      },
      "execution_count": null,
      "outputs": []
    },
    {
      "cell_type": "code",
      "source": [
        "visualizer = residuals_plot(\n",
        "    model, X_train, y_train, X_test, y_test, hist=False, qqplot=True\n",
        ")"
      ],
      "metadata": {
        "id": "dYY1tX-6cKIX"
      },
      "execution_count": null,
      "outputs": []
    },
    {
      "cell_type": "markdown",
      "source": [
        "The QQ-Plot shows the residuals are normally distributed, because their quantiles when plotted against quantiles of normal distribution forms a straight line."
      ],
      "metadata": {
        "id": "FBUQqMsXeM9m"
      }
    },
    {
      "cell_type": "markdown",
      "source": [
        "### Prediction Error"
      ],
      "metadata": {
        "id": "ylsAx5Dveh-v"
      }
    },
    {
      "cell_type": "code",
      "source": [
        "visualizer = prediction_error(model, X_train, y_train, X_test, y_test)"
      ],
      "metadata": {
        "id": "NKOzKn0oeBCh"
      },
      "execution_count": null,
      "outputs": []
    },
    {
      "cell_type": "markdown",
      "source": [
        "## Actual Predictions"
      ],
      "metadata": {
        "id": "rAw3_K2ctfHM"
      }
    },
    {
      "cell_type": "code",
      "source": [
        "preds = model.predict(X_test)"
      ],
      "metadata": {
        "id": "PpcOmSN_tz5e"
      },
      "execution_count": null,
      "outputs": []
    },
    {
      "cell_type": "code",
      "source": [
        "# Reverse the log transformation\n",
        "actual_preds = np.expm1(preds)\n",
        "actual_y_test = np.expm1(y_test)\n",
        "\n",
        "# Compute metrics on the original scale\n",
        "def compute_metrics_original_scale(y_true, y_pred):\n",
        "    return pd.DataFrame([{\n",
        "        \"R2\": round(metrics.r2_score(y_true, y_pred), 3),\n",
        "        \"mse\": round(metrics.mean_squared_error(y_true, y_pred), 3),\n",
        "        \"rmse\": round(np.sqrt(metrics.mean_squared_error(y_true, y_pred)), 3),\n",
        "        \"mae\": round(metrics.mean_absolute_error(y_true, y_pred), 3),\n",
        "    }])\n",
        "\n",
        "val_metrics_original_scale = compute_metrics_original_scale(actual_y_test, actual_preds)\n",
        "val_metrics_original_scale"
      ],
      "metadata": {
        "id": "sacen5ETvmC2"
      },
      "execution_count": null,
      "outputs": []
    },
    {
      "cell_type": "code",
      "source": [
        "pred_df = pd.DataFrame({\"actual\": actual_y_test, \"pred\": actual_preds})\n",
        "pred_df.head(10)"
      ],
      "metadata": {
        "id": "n2CE1q0vuxTm"
      },
      "execution_count": null,
      "outputs": []
    },
    {
      "cell_type": "code",
      "source": [
        "plt.scatter(pred_df.actual, pred_df.pred, c='crimson')\n",
        "p1 = max(max(pred_df.actual), max(pred_df.pred))\n",
        "p2 = min(min(pred_df.actual), min(pred_df.pred))\n",
        "plt.plot([p1, p2], [p1, p2], 'b-')\n",
        "plt.xlabel('Actual Values', fontsize=15)\n",
        "plt.ylabel('Predicted Values', fontsize=15)\n",
        "plt.axis('equal')\n",
        "plt.show()"
      ],
      "metadata": {
        "id": "Y5BFO2rpvPN7"
      },
      "execution_count": null,
      "outputs": []
    },
    {
      "cell_type": "code",
      "source": [
        "sns.distplot((pred_df.actual-pred_df.pred))\n",
        "plt.title('Distribution of residuals')\n",
        "plt.xlabel(\"Residuals\")\n",
        "plt.show()"
      ],
      "metadata": {
        "id": "RoGRQnUOvZsJ"
      },
      "execution_count": null,
      "outputs": []
    },
    {
      "cell_type": "code",
      "source": [],
      "metadata": {
        "id": "RK3zkFHwvhGz"
      },
      "execution_count": null,
      "outputs": []
    }
  ]
}